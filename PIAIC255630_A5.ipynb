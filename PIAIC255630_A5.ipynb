{
 "cells": [
  {
   "cell_type": "markdown",
   "metadata": {},
   "source": [
    "    Question 1: Ticket Pricing System\n",
    "    You are developing a ticket pricing system for a cinema. Write a Python program that:\n",
    "\n",
    "    Asks the user for their age.\n",
    "    Calculates the ticket price based on the following rules:\n",
    "    Under 5 years: Free\n",
    "    5 to 17 years: $10\n",
    "    18 to 60 years: $20\n",
    "    Above 60 years: $15"
   ]
  },
  {
   "cell_type": "code",
   "execution_count": 2,
   "metadata": {},
   "outputs": [
    {
     "name": "stdout",
     "output_type": "stream",
     "text": [
      "You are 61 year old, You have to pay $15\n"
     ]
    }
   ],
   "source": [
    "# Question 1: Ticket Pricing System\n",
    "price_list = {'Under 5 years' : 'Free', '5 to 17 years' : '$10', '18 to 60 years' : '$20', 'Above 60 years' :'$15'}\n",
    "age = int(input('Enter Your Age Please: '))\n",
    "if age < 5:\n",
    "    print(f\"You are: {age} year old, You have to Pay: {price_list['Under 5 years']}\")\n",
    "elif age >= 5 and age<= 17:\n",
    "    print(f\"You are: {age} year old, You have to pay: {price_list['5 to 17 years']}\")\n",
    "elif age >= 18 and age <= 60:\n",
    "    print(f\"You are {age} year old, You have to pay{price_list['18 to 60 years']}\")\n",
    "else:\n",
    "    print(f\"You are {age} year old, You have to pay {price_list['Above 60 years']}\")"
   ]
  },
  {
   "cell_type": "markdown",
   "metadata": {},
   "source": [
    "Question 2: Meal Recommendation\n",
    "Write a Python program that:\n",
    "\n",
    "Asks the user what time it is in 24-hour format (e.g., 13 for 1 PM, 18 for 6 PM).\n",
    "Recommends a meal based on the time:\n",
    "5 AM to 11 AM: Breakfast\n",
    "12 PM to 4 PM: Lunch\n",
    "5 PM to 9 PM: Dinner\n",
    "10 PM to 4 AM: Late-night Snack"
   ]
  },
  {
   "cell_type": "code",
   "execution_count": 1,
   "metadata": {},
   "outputs": [
    {
     "name": "stdout",
     "output_type": "stream",
     "text": [
      "Now time is 16, Kindly arrange Lunch\n"
     ]
    }
   ],
   "source": [
    "\n",
    "meal_type = {'5 AM to 11 AM':'Breakfast', '12 PM to 4 PM':'Lunch', '5 PM to 9 PM':'Dinner','10 PM to 4 AM':'Late-night Snack' }\n",
    "meal_time = int(input('Enter meal time please: '))\n",
    "if meal_time >= 5 and meal_time <= 11:\n",
    "    print(f'Now time is {meal_time}, Kindly arrange {meal_type['5 AM to 11 AM']}')\n",
    "elif meal_time >= 12 and meal_time <= 16:\n",
    "    print(f'Now time is {meal_time}, Kindly arrange {meal_type['12 PM to 4 PM']}')\n",
    "elif meal_time >= 17 and meal_time <= 21:\n",
    "    print(f'Now time is {meal_time}, Kindly arrange {meal_type['5 PM to 9 PM']}')\n",
    "else:\n",
    "    print(f'Now time is {meal_time}, Kindly arrage {meal_type['10 PM to 4 AM']}')"
   ]
  },
  {
   "cell_type": "markdown",
   "metadata": {},
   "source": [
    "Question 3: Grocery Bill Calculator\n",
    "Write a Python program that:\n",
    "\n",
    "Takes the price of 5 grocery items as input from the user.\n",
    "Calculates and prints the total bill.\n",
    "If the total bill is more than $100, it applies a 10% discount and prints the discounted total."
   ]
  },
  {
   "cell_type": "code",
   "execution_count": 9,
   "metadata": {},
   "outputs": [
    {
     "name": "stdout",
     "output_type": "stream",
     "text": [
      "You total grocery bill is: 65\n"
     ]
    }
   ],
   "source": [
    "grocery_price = []\n",
    "grocery_price.append(int(input('Enter Item 1 price: ')))\n",
    "grocery_price.append(int(input('Enter Item 2 price: ')))\n",
    "grocery_price.append(int(input('Entery Item 3 price: ')))\n",
    "grocery_price.append(int(input('Enter Item 4 price: ')))\n",
    "grocery_price.append(int(input('Enter Item 5 Price: ')))\n",
    "total_bill = sum(grocery_price)\n",
    "print(f'You total grocery bill is: {total_bill}')\n",
    "discount = total_bill * 0.1\n",
    "net_bill = total_bill - discount\n",
    "if total_bill > 100:\n",
    "    print('You are Elegible for discount')\n",
    "    print(f'Your total bills is Rs.: {total_bill}')\n",
    "    print(f'Discount on bill is Rs.: {discount}')\n",
    "    print(f'Your net bill after discount is Rs.: {net_bill}')\n"
   ]
  },
  {
   "cell_type": "markdown",
   "metadata": {},
   "source": [
    "Question 4: Username Validator\n",
    "Write a Python program that:\n",
    "\n",
    "Asks the user to input a username.\n",
    "Checks if the username is valid using the following rules:\n",
    "The username must be between 5 and 15 characters long.\n",
    "The username must start with a letter (A-Z or a-z).\n",
    "Prints whether the username is valid or not."
   ]
  },
  {
   "cell_type": "code",
   "execution_count": 3,
   "metadata": {},
   "outputs": [
    {
     "name": "stdout",
     "output_type": "stream",
     "text": [
      "Invalid User Name\n"
     ]
    }
   ],
   "source": [
    "username = str(input('Enter User Name:  '))\n",
    "if len(username) >= 5 and len(username) <= 15:\n",
    "        if username[0].isalpha():\n",
    "            print('Valid User Name:')\n",
    "        else:\n",
    "             print('Please start your user name with Letter A-z')    \n",
    "else:\n",
    "    print('Invalid User Name')"
   ]
  },
  {
   "cell_type": "markdown",
   "metadata": {},
   "source": [
    "Question 5: Travel Destination Suggestion\n",
    "Write a Python program that:\n",
    "\n",
    "Asks the user for their preferred weather (Sunny, Rainy, or Snowy).\n",
    "Suggests a travel destination based on the weather:\n",
    "Sunny: \"Go to the beach!\"\n",
    "Rainy: \"Visit a cozy mountain lodge!\"\n",
    "Snowy: \"Time for a ski trip!\""
   ]
  },
  {
   "cell_type": "code",
   "execution_count": 4,
   "metadata": {},
   "outputs": [
    {
     "name": "stdout",
     "output_type": "stream",
     "text": [
      "You travel destination is: Time for a ski trip!\n"
     ]
    }
   ],
   "source": [
    "weather = {1:'Sunny',2:'Rainy',3:'Snowy'}\n",
    "weather_selection = int(input('Enter Travel Destination: e.g press 1 for sunny,2 for Rainy, 3 for Snowy:  '))\n",
    "destination = {'Sunny' : 'Go to the beach!','Rainy' : 'Visit a cozy mountain lodge!','Snowy' : 'Time for a ski trip!'}\n",
    "if weather_selection == 1:\n",
    "    print(f'You travel destination is: {destination['Sunny']}')\n",
    "elif weather_selection == 2:\n",
    "    print(f'Your travel destination is: {destination['Rainy']}')\n",
    "elif weather_selection == 3:\n",
    "    print(f'You travel destination is: {destination['Snowy']}')\n",
    "else:\n",
    "    print('Stay at home')\n",
    "\n"
   ]
  },
  {
   "cell_type": "markdown",
   "metadata": {},
   "source": [
    "Question 6: Discount Eligibility Checker\n",
    "A store is running a promotion where customers get a 15% discount if:\n",
    "\n",
    "They spend more than $200 or\n",
    "They are a member of the store’s loyalty program.\n",
    "Write a Python program that:\n",
    "\n",
    "Asks the user for the total amount spent.\n",
    "Asks whether the user is a loyalty program member (Yes/No).\n",
    "Prints whether the user is eligible for the discount."
   ]
  },
  {
   "cell_type": "code",
   "execution_count": 45,
   "metadata": {},
   "outputs": [
    {
     "name": "stdout",
     "output_type": "stream",
     "text": [
      "Your spending is: 320, You are elegible for discount:48.0\n",
      "Kindly Paid the balance amount Rs.: 272.0\n",
      "User is not Member of Loyatly Programe:\n"
     ]
    }
   ],
   "source": [
    "spending = []\n",
    "spending.append(int(input('Enter spending amount for itme 1: ')))\n",
    "spending.append(int(input('Enter spending amount for itme 2: ')))\n",
    "spending.append(int(input('Enter spending amount for itme 3: ')))\n",
    "spending.append(int(input('Enter spending amount for itme 4: ')))\n",
    "spending.append(int(input('Enter spending amount for itme 5: ')))\n",
    "total_spending = sum(spending)\n",
    "discounted_amount = (total_spending * 0.15)\n",
    "balance_bill = total_spending - discounted_amount\n",
    "membership = str(input('whether the user is a loyalty program member (Yes/No): ')).split()\n",
    "if total_spending > 200:\n",
    "    print(f'Your spending is: {total_spending}, You are elegible for discount:{discounted_amount}')\n",
    "    print(f'Kindly Paid the balance amount Rs.: {balance_bill}')\n",
    "    if membership == 'Yes':\n",
    "      print('User Have Loyalty Programe Membership:')\n",
    "    else:\n",
    "        print('User is not Member of Loyatly Programe:')\n",
    "else:\n",
    "    print(f'Your spending is: {total_spending}, You are not elegible for discount:')\n",
    "    "
   ]
  },
  {
   "cell_type": "markdown",
   "metadata": {},
   "source": [
    "Question 7: Event Invitation\n",
    "You are planning an event and want to create a simple guest invitation checker. Write a Python program that:\n",
    "\n",
    "Takes a list of 5 guests who are invited to the event.\n",
    "Asks the user to enter their name.\n",
    "Prints whether the user is invited or not."
   ]
  },
  {
   "cell_type": "code",
   "execution_count": 51,
   "metadata": {},
   "outputs": [
    {
     "name": "stdout",
     "output_type": "stream",
     "text": [
      "Mr. Jamil: You are invited:\n"
     ]
    }
   ],
   "source": [
    "guest_list = {'Adnan', 'Taoqeer', 'Jamil', 'Ali', 'Irfan' }\n",
    "invited = str(input('Enter the guest name:  '))\n",
    "if invited in guest_list:\n",
    "    print(f'Mr. {invited}: You are invited:')\n",
    "else:\n",
    "    print(f'Mr.{invited}: You are note invited:')\n"
   ]
  },
  {
   "cell_type": "markdown",
   "metadata": {},
   "source": [
    "Question 8: Movie Streaming Eligibility\n",
    "A streaming platform allows users to watch certain movies based on the following criteria:\n",
    "\n",
    "\"Action Movies\" can be watched by users aged 18 and above.\n",
    "\"Animated Movies\" can be watched by users of any age.\n",
    "\"Documentaries\" can be watched by users aged 12 and above.\n",
    "Write a Python program that:\n",
    "\n",
    "Asks the user for their age and the type of movie they want to watch.\n",
    "Prints whether they are eligible to watch that type of movie."
   ]
  },
  {
   "cell_type": "code",
   "execution_count": 1,
   "metadata": {},
   "outputs": [
    {
     "name": "stdout",
     "output_type": "stream",
     "text": [
      "Your age is : {16}\n",
      "Your Movies type is: {1}\n",
      "You can watch: Action Movies\n"
     ]
    }
   ],
   "source": [
    "movies_types = {1:'Action Movies', 2:'Animated Movies', 3:'Documentaries'}\n",
    "age = int(input('Enter your age: '))\n",
    "user_movie = int(input('Press 1 action, press 2 for animated, press 3 documentaries: '))\n",
    "print('Your age is :', {age})\n",
    "print('Your Movies type is:', {user_movie})\n",
    "\n",
    "if age >= 18:\n",
    "    print(f'You can watch: {movies_types[user_movie]}')\n",
    "elif age >= 12 and user_movie != 1:\n",
    "    print(f'You can watch: {movies_types[user_movie]}')\n",
    "elif user_movie == 1:\n",
    "    print(f'You can watch: {movies_types[user_movie]}')\n",
    "else:\n",
    "    print(f'You are not allowed to watch: {movies_types[user_movie]}')\n"
   ]
  },
  {
   "cell_type": "markdown",
   "metadata": {},
   "source": [
    "Question 9: Phone Number Formatter\n",
    "Write a Python program that:\n",
    "\n",
    "Takes a phone number as input from the user in the format 1234567890.\n",
    "Formats the number into the standard format (123) 456-7890.\n",
    "Prints the formatted phone number."
   ]
  },
  {
   "cell_type": "code",
   "execution_count": null,
   "metadata": {},
   "outputs": [
    {
     "name": "stdout",
     "output_type": "stream",
     "text": [
      "Your formatted number is as: +92 (123)-456-9870\n"
     ]
    }
   ],
   "source": [
    "ptcl_number = input('Enter Your PTCL Number: ')\n",
    "format_number = f'+92 ({ptcl_number[:3]})-{ptcl_number[3:6]}-{ptcl_number[6:10]}'\n",
    "if len(ptcl_number) >= 9 and len(ptcl_number) <= 15:\n",
    "    print(f'Your ptcl number is: {format_number}')\n",
    "else:\n",
    "    print('You have enter invalid number: Please again Later') "
   ]
  },
  {
   "cell_type": "markdown",
   "metadata": {},
   "source": [
    "Question 10: Package Shipping Cost\n",
    "A shipping company charges different rates based on the weight of the package:\n",
    "\n",
    "For packages up to 1kg, the cost is $5.\n",
    "For packages between 1 and 5 kg, the cost is $10.\n",
    "For packages between 5 and 20 kg, the cost is $20.\n",
    "For packages above 20 kg, the cost is $50.\n",
    "Write a Python program that:\n",
    "\n",
    "Takes the weight of the package as input from the user.\n",
    "Prints the shipping cost."
   ]
  },
  {
   "cell_type": "code",
   "execution_count": 19,
   "metadata": {},
   "outputs": [
    {
     "name": "stdout",
     "output_type": "stream",
     "text": [
      "You package weight is:52.0, You have to pay Rs.: 50\n"
     ]
    }
   ],
   "source": [
    "shipping_weight= []\n",
    "shipping_weight.append(float(input('Enter weight of first package in kg please: ')))\n",
    "shipping_weight.append(float(input('Enter weight of second package in kg please: ')))\n",
    "shipping_weight.append(float(input('Enter weight of third package in kg please: ')))\n",
    "shipping_weight.append(float(input('Enter weight of fourth package in kg please: ')))\n",
    "shipping_weight.append(float(input('Enter weight of fifth package in kg please: ')))\n",
    "total_weight = sum(shipping_weight)\n",
    "shipping_rate = {'upto_1kg':5, 'upto_five_kg':10,'upto_twenty_kg':20, 'above_twenty':50}\n",
    "if total_weight >= 0.01 and total_weight <= 1:\n",
    "    print(f'Your package weight is: {total_weight},You have to pay Rs.:{shipping_rate['upto_1kg']}')\n",
    "elif total_weight > 1 and total_weight <= 5:\n",
    "    print(f'Your package weight is: {total_weight}, You have to pay Rs.: {shipping_rate['upto_five_kg']}')\n",
    "elif total_weight > 5 and total_weight <= 20:\n",
    "    print(f'Your package weight is: {total_weight}, You have to pay Rs.: {shipping_rate['upto_twenty_kg']}')\n",
    "else:\n",
    "    print(f'You package weight is:{total_weight}, You have to pay Rs.: {shipping_rate['above_twenty']}')"
   ]
  },
  {
   "cell_type": "markdown",
   "metadata": {},
   "source": [
    "Question 11: Student Grading System\n",
    "You are building a simple grading system for a school. Write a Python program that:\n",
    "\n",
    "Asks the user to input the marks of a student in five subjects. (Each subject has a maximum of 100 marks.)\n",
    "Calculates the total marks and the percentage.\n",
    "Prints the grade based on the following criteria:\n",
    "90% and above: Grade A\n",
    "80% to 89%: Grade B\n",
    "70% to 79%: Grade C\n",
    "60% to 69%: Grade D\n",
    "Below 60%: Grade F\n",
    "Prints whether the student passed or failed.\n",
    "A student is considered passed if they score 60% or more in all subjects."
   ]
  },
  {
   "cell_type": "code",
   "execution_count": 34,
   "metadata": {},
   "outputs": [
    {
     "name": "stdout",
     "output_type": "stream",
     "text": [
      "You have got: 59 marks, You are granted:Grade F\n"
     ]
    }
   ],
   "source": [
    "grade = {'90 and above': 'Grade A', '80 to 89': 'Grade B','70 to 79': 'Grade C', '60 to 69': 'Grade D','Below 60': 'Grade F'}\n",
    "subject_marks = []\n",
    "subject_marks.append(int(input('Enter math marks: ')))\n",
    "subject_marks.append(int(input('Enter eng marks: ')))\n",
    "subject_marks.append(int(input('Enter stat marks: ')))\n",
    "subject_marks.append(int(input('Enter comp marks: ')))\n",
    "subject_marks.append(int(input('Enter hist marks: ')))\n",
    "total_marks = sum(subject_marks)\n",
    "if total_marks > 90:\n",
    "    print(f'You have got: {total_marks} marks,You are granted:{grade['90 and above']}')\n",
    "elif total_marks >= 80 and total_marks <= 89:\n",
    "    print(f'You have got: {total_marks} marks,You are granted:{grade['80 to 89']}')\n",
    "elif total_marks >= 70 and total_marks <= 79:\n",
    "    print(f'You have got: {total_marks} marks,You are granted:{grade['70 to 79']}')\n",
    "elif total_marks >= 60 and total_marks <= 69:\n",
    "    print(f'You have got:{total_marks} marks,You are granted:{grade['60 to 69']}')\n",
    "elif total_marks <= 59:\n",
    "    print(f'You have got: {total_marks} marks, You are granted:{grade['Below 60']}')\n",
    "\n",
    "\n"
   ]
  }
 ],
 "metadata": {
  "kernelspec": {
   "display_name": "Python 3",
   "language": "python",
   "name": "python3"
  },
  "language_info": {
   "codemirror_mode": {
    "name": "ipython",
    "version": 3
   },
   "file_extension": ".py",
   "mimetype": "text/x-python",
   "name": "python",
   "nbconvert_exporter": "python",
   "pygments_lexer": "ipython3",
   "version": "3.13.0"
  }
 },
 "nbformat": 4,
 "nbformat_minor": 2
}
